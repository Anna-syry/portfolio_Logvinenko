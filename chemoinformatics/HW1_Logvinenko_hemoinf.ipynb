{
  "cells": [
    {
      "cell_type": "markdown",
      "metadata": {
        "id": "UXcUjTEtjNl7"
      },
      "source": [
        "ЗАДАНИЕ 1   Графовые представления: это наиболее \"интуитивный\" способ представления молекул, где молекула рассматривается как математический граф. В таком представлении атомы являются вершинами графа, а химические связи — ребрами. Каждая вершина содержит информацию об атоме (атомный номер, заряд, тип гибридизации и т.д.), а ребра характеризуют тип связи (одинарная, двойная, тройная). Это представление удобно для анализа структуры молекул и применения алгоритмов теории графов.\n",
        "SMILES: Это линейная текстовая нотация для описания химической структуры. В SMILES молекула записывается как строка символов, следующая определенным правилам:\n",
        "- атомы обозначаются их химическими символами\n",
        "-\tодинарные связи обычно опускаются\n",
        "-\tдвойные связи обозначаются \"=\"\n",
        "-\tтройные связи обозначаются \"#\"\n",
        "-\tразветвления обозначаются скобками\n",
        "-\tциклы обозначаются цифрами Например, этанол записывается как CCO, а бензол как c1ccccc1.\n",
        "Векторные дескрипторы: это числовые представления молекул фиксированной длины. Дескрипторы Моргана (также известные как круговые отпечатки) — один из популярных типов. Они генерируются путем:\n",
        "1.\tПрисвоения каждому атому начального идентификатора на основе его свойств\n",
        "2.\tИтеративного обновления идентификаторов атомов с учетом идентификаторов соседних атомов\n",
        "3.\tХеширования полученных идентификаторов в битовый вектор фиксированной длины\n",
        "Дескрипторы Моргана особенно полезны в машинном обучении, так как они:\n",
        "- имеют фиксированную длину независимо от размера молекулы\n",
        "- сохраняют информацию о локальном окружении атомов\n",
        "-\tинвариантны к поворотам и перестановкам атомов\n",
        "\n"
      ]
    },
    {
      "cell_type": "markdown",
      "metadata": {
        "id": "spbRMur55gzT"
      },
      "source": [
        "ЗАДАНИЕ 2  Достоинства и недостатки графовых репрезентаций в задачах машинного обучения:\n",
        "Достоинства:\n",
        "1. Полнота информации: сохраняют всю структурную информацию о молекуле без потерь; позволяют точно представить трехмерную структуру молекулы; содержат полную информацию о связях между атомами; позволяют учитывать различные атрибуты атомов и связей.\n",
        "2. Естественность представления: соответствуют интуитивному пониманию молекулярной структуры; удобны для визуализации и интерпретации; позволяют напрямую применять методы анализа графов.\n",
        "3. Гибкость в использовании: можно легко добавлять новые атрибуты атомов и связей; поддерживают различные уровни детализации; позволяют извлекать различные структурные паттерны.\n",
        "Недостатки:\n",
        "1. Вычислительная сложность: требуют специализированных архитектур нейронных сетей (Graph Neural Networks); операции на графах часто имеют высокую вычислительную сложность; сложность масштабирования на большие молекулы.\n",
        "2. Проблемы с батчингом: молекулы разного размера дают графы разной размерности; требуются специальные методы для эффективной обработки батчей; сложность параллельных вычислений.\n",
        "3. Избыточность данных: часто содержат больше информации, чем необходимо для конкретной задачи; могут создавать шум в данных; требуют больше памяти для хранения.\n",
        "4. Сложность обучения: требуют большего количества данных для обучения; сложнее достичь обобщения на новые структуры; более высокий риск переобучения\n",
        "\n",
        "MACCS-ключи (Molecular ACCess System keys) — это один из самых распространенных типов структурных молекулярных фингерпринтов, разработанный компанией MDL (теперь часть BIOVIA). \n",
        "\n",
        "Структура и размерность:\n",
        "MACCS-ключи представляют собой бинарный вектор фиксированной длины (обычно 166 битов)\n",
        "Каждый бит соответствует наличию (1) или отсутствию (0) определенного структурного фрагмента или химического паттерна в молекуле\n",
        "\n",
        "Сравнение дескрипторов Моргана и MACCS-ключей:\n",
        "Дескрипторы Моргана:\n",
        "1. Принцип работы: генерируются итеративно, учитывая окружение каждого атома; используют хеширование для создания фиксированного вектора; могут настраиваться по радиусу рассмотрения окружения; учитывают топологические особенности молекулы.\n",
        "2. Преимущества: более гибкие и настраиваемые; лучше capture химическое окружение; могут представлять более сложные структурные паттерны; хорошо работают для разнообразных химических структур.\n",
        "3. Недостатки: менее интерпретируемы; могут иметь коллизии из-за хеширования; требуют больше вычислительных ресурсов; сложнее для анализа и отладки.\n",
        "MACCS-ключи:\n",
        "1. Принцип работы: фиксированный набор из 166 структурных ключей; каждый бит отвечает за конкретный структурный паттерн; используют предопределенные химические правила; бинарное представление присутствия/отсутствия паттернов.\n",
        "2. Преимущества: высокая интерпретируемость; быстрое вычисление; стандартизированное представление; меньший размер векторов.\n",
        "3. Недостатки: ограниченный набор паттернов; меньшая гибкость; могут пропускать важные структурные особенности; не подходят для некоторых классов молекул\n",
        "\n",
        "\n",
        "Сравнительные характеристики:\n",
        "1. Применимость\n",
        "- дескрипторы Моргана лучше для общих задач и разнообразных структур\n",
        "- MACCS-ключи эффективны для специфических химических классов\n",
        "- выбор зависит от конкретной задачи и данных\n",
        "\n",
        "2. Производительность\n",
        "- MACCS-ключи быстрее вычисляются\n",
        "- дескрипторы Моргана требуют больше ресурсов\n",
        "- MACCS-ключи компактнее\n",
        "\n",
        "3. Точность предсказаний\n",
        "- дескрипторы Моргана обычно дают лучшие результаты\n",
        "- MACCS-ключи могут быть эффективны для определенных задач\n",
        "- часто используются комбинации обоих типов\n",
        "\n",
        "4. Масштабируемость\n",
        "- MACCS-ключи легче масштабируются\n",
        "- дескрипторы Моргана требуют больше ресурсов при увеличении размера молекул\n",
        "- оба типа хорошо работают в параллельных вычислениях\n"
      ]
    },
    {
      "cell_type": "code",
      "execution_count": null,
      "metadata": {
        "colab": {
          "base_uri": "https://localhost:8080/"
        },
        "id": "Q6l1Go2tgM-O",
        "outputId": "21e562ca-d5f8-4a5d-e55e-427c569985ff"
      },
      "outputs": [
        {
          "name": "stdout",
          "output_type": "stream",
          "text": [
            "Collecting rdkit\n",
            "  Downloading rdkit-2024.9.5-cp311-cp311-manylinux_2_28_x86_64.whl.metadata (4.0 kB)\n",
            "Requirement already satisfied: numpy in /usr/local/lib/python3.11/dist-packages (from rdkit) (1.26.4)\n",
            "Requirement already satisfied: Pillow in /usr/local/lib/python3.11/dist-packages (from rdkit) (11.1.0)\n",
            "Downloading rdkit-2024.9.5-cp311-cp311-manylinux_2_28_x86_64.whl (34.3 MB)\n",
            "\u001b[2K   \u001b[90m━━━━━━━━━━━━━━━━━━━━━━━━━━━━━━━━━━━━━━━━\u001b[0m \u001b[32m34.3/34.3 MB\u001b[0m \u001b[31m25.4 MB/s\u001b[0m eta \u001b[36m0:00:00\u001b[0m\n",
            "\u001b[?25hInstalling collected packages: rdkit\n",
            "Successfully installed rdkit-2024.9.5\n"
          ]
        }
      ],
      "source": [
        "!pip install rdkit"
      ]
    },
    {
      "cell_type": "code",
      "execution_count": null,
      "metadata": {
        "colab": {
          "base_uri": "https://localhost:8080/"
        },
        "id": "fnwvBMSyjhcb",
        "outputId": "132e29a9-9be0-4c1b-c71c-e3c965804149"
      },
      "outputs": [
        {
          "name": "stdout",
          "output_type": "stream",
          "text": [
            "Collecting deepchem\n",
            "  Downloading deepchem-2.8.0-py3-none-any.whl.metadata (2.0 kB)\n",
            "Requirement already satisfied: joblib in /usr/local/lib/python3.11/dist-packages (from deepchem) (1.4.2)\n",
            "Requirement already satisfied: numpy>=1.21 in /usr/local/lib/python3.11/dist-packages (from deepchem) (1.26.4)\n",
            "Requirement already satisfied: pandas in /usr/local/lib/python3.11/dist-packages (from deepchem) (2.2.2)\n",
            "Requirement already satisfied: scikit-learn in /usr/local/lib/python3.11/dist-packages (from deepchem) (1.6.1)\n",
            "Requirement already satisfied: sympy in /usr/local/lib/python3.11/dist-packages (from deepchem) (1.13.1)\n",
            "Requirement already satisfied: scipy>=1.10.1 in /usr/local/lib/python3.11/dist-packages (from deepchem) (1.13.1)\n",
            "Requirement already satisfied: rdkit in /usr/local/lib/python3.11/dist-packages (from deepchem) (2024.9.5)\n",
            "Requirement already satisfied: python-dateutil>=2.8.2 in /usr/local/lib/python3.11/dist-packages (from pandas->deepchem) (2.8.2)\n",
            "Requirement already satisfied: pytz>=2020.1 in /usr/local/lib/python3.11/dist-packages (from pandas->deepchem) (2025.1)\n",
            "Requirement already satisfied: tzdata>=2022.7 in /usr/local/lib/python3.11/dist-packages (from pandas->deepchem) (2025.1)\n",
            "Requirement already satisfied: Pillow in /usr/local/lib/python3.11/dist-packages (from rdkit->deepchem) (11.1.0)\n",
            "Requirement already satisfied: threadpoolctl>=3.1.0 in /usr/local/lib/python3.11/dist-packages (from scikit-learn->deepchem) (3.5.0)\n",
            "Requirement already satisfied: mpmath<1.4,>=1.1.0 in /usr/local/lib/python3.11/dist-packages (from sympy->deepchem) (1.3.0)\n",
            "Requirement already satisfied: six>=1.5 in /usr/local/lib/python3.11/dist-packages (from python-dateutil>=2.8.2->pandas->deepchem) (1.17.0)\n",
            "Downloading deepchem-2.8.0-py3-none-any.whl (1.0 MB)\n",
            "\u001b[2K   \u001b[90m━━━━━━━━━━━━━━━━━━━━━━━━━━━━━━━━━━━━━━━━\u001b[0m \u001b[32m1.0/1.0 MB\u001b[0m \u001b[31m41.1 MB/s\u001b[0m eta \u001b[36m0:00:00\u001b[0m\n",
            "\u001b[?25hInstalling collected packages: deepchem\n",
            "Successfully installed deepchem-2.8.0\n"
          ]
        }
      ],
      "source": [
        "!pip install deepchem"
      ]
    },
    {
      "cell_type": "markdown",
      "metadata": {
        "id": "CaRrUwj4h9-J"
      },
      "source": [
        "ЗАДАЧА 3 вариант с использованием MoleculeNet"
      ]
    },
    {
      "cell_type": "code",
      "execution_count": 33,
      "metadata": {
        "colab": {
          "base_uri": "https://localhost:8080/"
        },
        "id": "rb2YTsKzu9ZI",
        "outputId": "fabec1e8-6996-41d5-97ce-08b3c77a6ab6"
      },
      "outputs": [
        {
          "name": "stdout",
          "output_type": "stream",
          "text": [
            "Молекула 1: C(=O)(OC(C)(C)C)CCCc1ccc(cc1)N(CCCl)CCCl\n",
            "Первые 10 бит отпечатка Моргана: [0, 0, 0, 0, 1, 0, 0, 0, 0, 0]\n",
            "\n",
            "Молекула 2: C[C@H](N)Cc1ccccc1\n",
            "Первые 10 бит отпечатка Моргана: [0, 1, 0, 0, 0, 0, 0, 0, 0, 0]\n",
            "\n",
            "Молекула 3: C[S](=O)(=O)c1ccc(cc1)[C@@H](O)[C@@H](CO)NC(=O)C(Cl)Cl\n",
            "Первые 10 бит отпечатка Моргана: [0, 1, 0, 0, 0, 0, 0, 0, 0, 0]\n",
            "\n",
            "Молекула 4: CC(N)COc1c(C)cccc1C\n",
            "Первые 10 бит отпечатка Моргана: [0, 1, 0, 0, 0, 0, 0, 0, 0, 0]\n",
            "\n",
            "Молекула 5: c1(ccccc1)CC\n",
            "Первые 10 бит отпечатка Моргана: [0, 0, 0, 0, 0, 0, 0, 0, 0, 0]\n",
            "\n"
          ]
        }
      ],
      "source": [
        "import deepchem as dc\n",
        "from rdkit import Chem\n",
        "from rdkit.Chem import rdFingerprintGenerator\n",
        "\n",
        "# 1. Загружаем набор данных BBBP, указывая, что не нужно применять featurizer\n",
        "tasks, datasets, transformers = dc.molnet.load_bbbp(featurizer='raw')\n",
        "train_dataset, valid_dataset, test_dataset = datasets\n",
        "data = train_dataset\n",
        "\n",
        "# 2. Берем SMILES из data.ids (вместо data.X)\n",
        "smiles = data.ids[:5]  # data.ids содержит исходные SMILES\n",
        "\n",
        "# 3. Создаем генератор отпечатков Моргана\n",
        "morgan_gen = rdFingerprintGenerator.GetMorganGenerator(radius=2, fpSize=1024)\n",
        "\n",
        "# 4. Преобразуем SMILES в молекулы и генерируем отпечатки\n",
        "for i, smile in enumerate(smiles, 1):\n",
        "    # Убеждаемся, что smile — это строка\n",
        "    smile_str = str(smile)\n",
        "    mol = Chem.MolFromSmiles(smile_str)\n",
        "\n",
        "    if mol is None:\n",
        "        print(f\"Молекула {i}: Ошибка в SMILES {smile_str}\")\n",
        "        continue\n",
        "\n",
        "    # Генерируем отпечаток Моргана\n",
        "    fingerprint = morgan_gen.GetFingerprint(mol)\n",
        "\n",
        "    # Выводим SMILES и часть отпечатка (первые 10 бит)\n",
        "    fp_bits = list(fingerprint)[:10]\n",
        "    print(f\"Молекула {i}: {smile_str}\")\n",
        "    print(f\"Первые 10 бит отпечатка Моргана: {fp_bits}\\n\")"
      ]
    },
    {
      "cell_type": "markdown",
      "metadata": {
        "id": "lHWPdxKE4ly8"
      },
      "source": [
        "вариант с пятью произвольными молекулами"
      ]
    },
    {
      "cell_type": "code",
      "execution_count": 39,
      "metadata": {
        "colab": {
          "base_uri": "https://localhost:8080/"
        },
        "id": "ybk-9myppw5u",
        "outputId": "b71f8492-2d0c-4aca-ba7e-cdf6263fbc1c"
      },
      "outputs": [
        {
          "name": "stdout",
          "output_type": "stream",
          "text": [
            "Успешно обработано: 5\n",
            "Молекула - CC(N)C(=O)O\n",
            "Количество активных битов: 12\n",
            "Первые 100 бит: 0100000000011001000000000100001000000101000000000010000000000000000001000000000000000000010010000000\n",
            "\n",
            "Молекула - C=CC=O\n",
            "Количество активных битов: 8\n",
            "Первые 100 бит: 0000000000000000100010000000011000100000000000000000000000011000000000000000000000000000000000000010\n",
            "\n",
            "Молекула - C1=CC=CC=C1\n",
            "Количество активных битов: 3\n",
            "Первые 100 бит: 0000000000000100000000000000000000000000000000000000000000000000000001000000000000001000000000000000\n",
            "\n",
            "Молекула - OCCO\n",
            "Количество активных битов: 5\n",
            "Первые 100 бит: 0000000000010000000000000100000000000000000000000000000000000000000000001100000000000010000000000000\n",
            "\n",
            "Молекула - CC=O\n",
            "Количество активных битов: 5\n",
            "Первые 100 бит: 0000000000000000100000000000001000001100000000000000000000000000000000000000000000000000000000000010\n",
            "\n"
          ]
        }
      ],
      "source": [
        "from rdkit import Chem\n",
        "from rdkit.Chem import rdFingerprintGenerator\n",
        "\n",
        "# Список SMILES молекул\n",
        "smiles_list = [\n",
        "    'CC(N)C(=O)O',          # Аланин\n",
        "    'C=CC=O',               # Акролеин\n",
        "    'C1=CC=CC=C1',         # Бензол\n",
        "    'OCCO',                # Этиленгликоль\n",
        "    'CC=O',                # Ацетальдегид\n",
        "]\n",
        "\n",
        "# Параметры дескрипторов\n",
        "radius = 2\n",
        "n_bits = 100\n",
        "\n",
        "morgan_fingerprints = []\n",
        "for smiles in smiles_list:\n",
        "    mol = Chem.MolFromSmiles(smiles)\n",
        "    if mol is None:\n",
        "        print(f\"Ошибка в SMILES: {smiles}\")\n",
        "        continue\n",
        "    # Санитаризация молекулы\n",
        "    try:\n",
        "        Chem.SanitizeMol(mol)\n",
        "    except ValueError as e:\n",
        "        print(f\"Ошибка санитаризации для {smiles}: {e}\")\n",
        "        continue\n",
        "    fpg = rdFingerprintGenerator.GetMorganGenerator(radius=radius, fpSize=n_bits)\n",
        "    fp = fpg.GetFingerprint(mol)\n",
        "    morgan_fingerprints.append(fp)\n",
        "\n",
        "# Проверка результатов\n",
        "print(f\"Успешно обработано: {len(morgan_fingerprints)}\")\n",
        "for i, fp in enumerate(morgan_fingerprints):\n",
        "    print(f\"Молекула - {smiles_list[i]}\")\n",
        "    print(f\"Количество активных битов: {fp.GetNumOnBits()}\")\n",
        "    print(f\"Первые 100 бит: {fp.ToBitString()[:100]}\\n\")"
      ]
    },
    {
      "cell_type": "markdown",
      "metadata": {
        "id": "mRc8ndUxmKUa"
      },
      "source": [
        "ЗАДАНИЕ4  Задача: Преобразуйте SMILES в графовую структуру и визуализируйте молекулу. В моем случае аланин.   "
      ]
    },
    {
      "cell_type": "code",
      "execution_count": 42,
      "metadata": {
        "colab": {
          "base_uri": "https://localhost:8080/"
        },
        "id": "fpTKcAZ39Rcw",
        "outputId": "52236025-d4a1-4c00-ee26-5175b359fde0"
      },
      "outputs": [
        {
          "name": "stdout",
          "output_type": "stream",
          "text": [
            "Молекула успешно создана!\n",
            "\n",
            "Информация о графе:\n",
            "Атом 0: C\n",
            "Атом 1: C\n",
            "Атом 2: N\n",
            "Атом 3: C\n",
            "Атом 4: O\n",
            "Атом 5: O\n",
            "Атом 6: H\n",
            "Атом 7: H\n",
            "Атом 8: H\n",
            "Атом 9: H\n",
            "Атом 10: H\n",
            "Атом 11: H\n",
            "Атом 12: H\n",
            "Связь: 0 - 1 (тип: SINGLE)\n",
            "Связь: 1 - 2 (тип: SINGLE)\n",
            "Связь: 1 - 3 (тип: SINGLE)\n",
            "Связь: 3 - 4 (тип: DOUBLE)\n",
            "Связь: 3 - 5 (тип: SINGLE)\n",
            "Связь: 0 - 6 (тип: SINGLE)\n",
            "Связь: 0 - 7 (тип: SINGLE)\n",
            "Связь: 0 - 8 (тип: SINGLE)\n",
            "Связь: 1 - 9 (тип: SINGLE)\n",
            "Связь: 2 - 10 (тип: SINGLE)\n",
            "Связь: 2 - 11 (тип: SINGLE)\n",
            "Связь: 5 - 12 (тип: SINGLE)\n",
            "Молекула сохранена как alanine.png\n"
          ]
        }
      ],
      "source": [
        "\n",
        "from rdkit.Chem.Draw import IPythonConsole\n",
        "\n",
        "\n",
        "# 1. задаем SMILES-строку (возьмем аланин)\n",
        "smiles = 'CC(N)C(=O)O'\n",
        "mol = Chem.MolFromSmiles(smiles)\n",
        "\n",
        "# 2. Проверяем, что молекула создалась корректно\n",
        "if mol is None:\n",
        "    print(\"Ошибка: не удалось создать молекулу из SMILES\")\n",
        "else:\n",
        "    print(\"Молекула успешно создана!\")\n",
        "\n",
        "# 3. Добавляем водороды (опционально, для полной структуры)\n",
        "mol = Chem.AddHs(mol)\n",
        "\n",
        "# 4. Санитаризация молекулы\n",
        "try:\n",
        "    Chem.SanitizeMol(mol)\n",
        "except ValueError as e:\n",
        "    print(f\"Ошибка санитаризации: {e}\")\n",
        "    exit()\n",
        "\n",
        "# 5. Извлекаем графовую структуру\n",
        "print(\"\\nИнформация о графе:\")\n",
        "# Атомы (вершины)\n",
        "for atom in mol.GetAtoms():\n",
        "    print(f\"Атом {atom.GetIdx()}: {atom.GetSymbol()}\")\n",
        "\n",
        "# Связи (ребра)\n",
        "for bond in mol.GetBonds():\n",
        "    print(f\"Связь: {bond.GetBeginAtomIdx()} - {bond.GetEndAtomIdx()} \"\n",
        "          f\"(тип: {bond.GetBondType()})\")\n",
        "\n",
        "# 6. Визуализация молекулы\n",
        "img = Draw.MolToImage(mol, size=(300, 300))\n",
        "img.show()\n",
        "\n",
        "# 7. сохранить изображение\n",
        "img.save(\"alanine.png\")\n",
        "print(\"Молекула сохранена как alanine.png\")"
      ]
    },
    {
      "cell_type": "code",
      "execution_count": 46,
      "metadata": {
        "id": "i1kKZqQ3C-6y"
      },
      "outputs": [],
      "source": [
        "from rdkit.Chem import rdMolDescriptors\n",
        "from rdkit.Chem import MACCSkeys\n",
        "from rdkit.Chem import Draw\n",
        "from rdkit.Chem.Draw import IPythonConsole\n",
        "IPythonConsole.ipython_useSVG = True  # Для SVG в Colab\n",
        "import numpy as np"
      ]
    },
    {
      "cell_type": "markdown",
      "metadata": {
        "id": "Ez1dVi--DGQo"
      },
      "source": [
        "ЗАДАНИЕ 5"
      ]
    },
    {
      "cell_type": "code",
      "execution_count": 47,
      "metadata": {
        "colab": {
          "base_uri": "https://localhost:8080/",
          "height": 1000
        },
        "id": "GDAXaMbLDJBx",
        "outputId": "626a4c7e-2d90-4c70-f157-4f88621dc69e"
      },
      "outputs": [
        {
          "name": "stdout",
          "output_type": "stream",
          "text": [
            "\n",
            "=== Анализ для Бензол ===\n",
            "MACCS-ключи:\n",
            "  Длина: 167 бит\n",
            "  Количество активных битов: 5\n",
            "  Первые 50 бит: 00000000000000000000000000000000000000000000000000...\n",
            "Дескрипторы Моргана (radius=2, nBits=2048):\n",
            "  Длина: 2048 бит\n",
            "  Количество активных битов: 4\n",
            "  Первые 50 бит: 00000000000000000000000000000000000000000000000000...\n"
          ]
        },
        {
          "name": "stderr",
          "output_type": "stream",
          "text": [
            "[18:26:42] DEPRECATION WARNING: please use MorganGenerator\n",
            "[18:26:42] DEPRECATION WARNING: please use MorganGenerator\n"
          ]
        },
        {
          "data": {
            "image/jpeg": "[encoded data removed]",
            "image/png": "[encoded data removed]",
            "text/plain": [
              "<PIL.PngImagePlugin.PngImageFile image mode=RGB size=300x300>"
            ]
          },
          "metadata": {},
          "output_type": "display_data"
        },
        {
          "name": "stdout",
          "output_type": "stream",
          "text": [
            "\n",
            "=== Анализ для Аланин ===\n",
            "MACCS-ключи:\n",
            "  Длина: 167 бит\n",
            "  Количество активных битов: 19\n",
            "  Первые 50 бит: 00000000000000000000000000000000000000000000000000...\n",
            "Дескрипторы Моргана (radius=2, nBits=2048):\n",
            "  Длина: 2048 бит\n",
            "  Количество активных битов: 21\n",
            "  Первые 50 бит: 01000000000000000000000000000000000000000000000000...\n"
          ]
        },
        {
          "data": {
            "image/jpeg": "[encoded data removed]",
            "image/png": "[encoded data removed]",
            "text/plain": [
              "<PIL.PngImagePlugin.PngImageFile image mode=RGB size=300x300>"
            ]
          },
          "metadata": {},
          "output_type": "display_data"
        },
        {
          "name": "stdout",
          "output_type": "stream",
          "text": [
            "\n",
            "=== Сравнение информативности ===\n",
            "MACCS-ключи фиксированы (167 бит), содержат предопределенные структурные фрагменты.\n",
            "Дескрипторы Моргана гибкие (длина задается), учитывают окружение атомов с заданным радиусом.\n"
          ]
        }
      ],
      "source": [
        "\n",
        "# Список молекул (SMILES)\n",
        "molecules = {\n",
        "    'Бензол': 'C1=CC=CC=C1',\n",
        "    'Аланин': 'CC(N)C(=O)O'\n",
        "}\n",
        "\n",
        "# Преобразование SMILES в молекулы RDKit\n",
        "mols = {name: Chem.MolFromSmiles(smiles) for name, smiles in molecules.items()}\n",
        "for name, mol in mols.items():\n",
        "    if mol is None:\n",
        "        print(f\"Ошибка в SMILES для {name}\")\n",
        "    else:\n",
        "        Chem.SanitizeMol(mol)  # Санитаризация\n",
        "        mols[name] = Chem.AddHs(mol)  # Добавляем водороды для полной структуры\n",
        "\n",
        "# 1. Рассчет MACCS-ключей\n",
        "maccs_fps = {name: MACCSkeys.GenMACCSKeys(mol) for name, mol in mols.items()}\n",
        "\n",
        "# 2. Рассчет дескрипторов Моргана\n",
        "radius = 2\n",
        "n_bits = 2048  # Обычный размер для Morgan fingerprints\n",
        "morgan_fps = {name: rdMolDescriptors.GetMorganFingerprintAsBitVect(mol, radius, nBits=n_bits)\n",
        "              for name, mol in mols.items()}\n",
        "\n",
        "# 3. Анализ и вывод результатов\n",
        "for name in molecules.keys():\n",
        "    print(f\"\\n=== Анализ для {name} ===\")\n",
        "\n",
        "    # MACCS-ключи\n",
        "    maccs_fp = maccs_fps[name]\n",
        "    maccs_bits = maccs_fp.GetNumOnBits()\n",
        "    maccs_len = maccs_fp.GetNumBits()  # Длина MACCS всегда 167 бит\n",
        "    maccs_string = maccs_fp.ToBitString()\n",
        "\n",
        "    # Morgan fingerprints\n",
        "    morgan_fp = morgan_fps[name]\n",
        "    morgan_bits = morgan_fp.GetNumOnBits()\n",
        "    morgan_len = morgan_fp.GetNumBits()  # Задали 2048 бит\n",
        "    morgan_string = morgan_fp.ToBitString()\n",
        "\n",
        "    # Вывод\n",
        "    print(f\"MACCS-ключи:\")\n",
        "    print(f\"  Длина: {maccs_len} бит\")\n",
        "    print(f\"  Количество активных битов: {maccs_bits}\")\n",
        "    print(f\"  Первые 50 бит: {maccs_string[:50]}...\")\n",
        "\n",
        "    print(f\"Дескрипторы Моргана (radius={radius}, nBits={n_bits}):\")\n",
        "    print(f\"  Длина: {morgan_len} бит\")\n",
        "    print(f\"  Количество активных битов: {morgan_bits}\")\n",
        "    print(f\"  Первые 50 бит: {morgan_string[:50]}...\")\n",
        "\n",
        "    # Визуализация молекулы\n",
        "    img = Draw.MolToImage(mols[name], size=(300, 300))\n",
        "    display(img)  # Используем display для Colab\n",
        "\n",
        "# 4. Сравнение информативности (дополнительный анализ)\n",
        "print(\"\\n=== Сравнение информативности ===\")\n",
        "print(\"MACCS-ключи фиксированы (167 бит), содержат предопределенные структурные фрагменты.\")\n",
        "print(\"Дескрипторы Моргана гибкие (длина задается), учитывают окружение атомов с заданным радиусом.\")"
      ]
    },
    {
      "cell_type": "markdown",
      "metadata": {
        "id": "RzCyOaJyLIIN"
      },
      "source": [
        "Для бензола.\n",
        "MACCS: Бензол — это простое ароматическое кольцо (C6H6). MACCS фиксирует наличие ароматической системы (биты вроде \"aromatic ring\") и, возможно, несколько общих фрагментов (например, \"C-C в кольце\"). Активных битов мало, так как структура однообразна, без функциональных групп вроде O, N или гетероатомов.\n",
        "\n",
        "Morgan: Учитывает окружение каждого углерода в кольце до радиуса 2. Из-за высокой симметрии бензола (все углероды эквивалентны), многие окружения совпадают, и битов немного больше, чем в MACCS, но все еще мало. Это отражает топологическую простоту молекулы.\n",
        "В итоге: оба дескриптора показывают низкую сложность, но Morgan чуть детальнее за счет учета окружения.\n",
        "\n",
        "\n",
        "Для аланина\n",
        "MACCS: Аланин (CH3-CH(NH2)-C(=O)OH) имеет метильную группу (CH3), аминогруппу (NH2), карбоксильную группу (C(=O)OH). MACCS фиксирует эти фрагменты: \"C-N\", \"C=O\", \"O-H\", \"кислород в карбониле\" и т.д. Больше активных битов, чем у бензола, из-за разнообразия функциональных групп.\n",
        "Morgan: Учитывает топологию: углерод с NH2 связан с CH3 и C(=O)OH, а карбонил соединен с кислородом и углеродом. Это дает больше уникальных окружений, чем у бензола, и активных битов больше. Morgan лучше отражает, как группы связаны между собой.\n",
        "В итоге: Аланин сложнее бензола, и Morgan подчеркивает эту сложность через топологию, тогда как MACCS просто перечисляет наличие групп.\n",
        "\n",
        "\n",
        "Вывод. MACCS для бензола почти пустой, так как нет \"интересных\" фрагментов, а для аланина он фиксирует наличие групп, но не их взаимосвязь. Morgan различает их топологию: у бензола симметрия снижает число битов, у аланина разнообразие окружений их увеличивает.\n",
        "Morgan лучше разделяет эти молекулы, особенно для аланина, где важна структура цепи.\n",
        "\n",
        "\n"
      ]
    }
  ],
  "metadata": {
    "colab": {
      "provenance": []
    },
    "kernelspec": {
      "display_name": "Python 3",
      "name": "python3"
    },
    "language_info": {
      "name": "python"
    }
  },
  "nbformat": 4,
  "nbformat_minor": 0
}
