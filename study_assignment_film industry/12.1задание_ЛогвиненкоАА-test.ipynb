{
 "cells": [
  {
   "cell_type": "code",
   "execution_count": null,
   "metadata": {},
   "outputs": [],
   "source": [
    "import numpy as np\n",
    "import pandas as pd\n",
    "import matplotlib.pyplot as plt\n",
    "import seaborn as sns\n",
    "import warnings"
   ]
  },
  {
   "cell_type": "code",
   "execution_count": null,
   "metadata": {},
   "outputs": [],
   "source": [
    "csv_files = [\"bomojobrandindices.csv\", \"boxofficemojotopgenres.tsv\", \n",
    "             \"boxofficemojotopfranchises.tsv\", \"boxofficemojobrandindices.tsv\", \n",
    "             \"boxofficemojointernationaltop1000.tsv\"]\n",
    "\n",
    "data = {}\n",
    "# прочтение файлов, т.к. они все имеют разделение табуляцией, в качестве сепаратора указываю табуляцию.  Содержание двух файлов  \n",
    "# bomojobrandindices.csv   boxofficemojotopgenres.tsv имеют одинаковое содержание \n",
    "for file in csv_files:\n",
    " \n",
    "    df = pd.read_csv(file, sep=\"\\t\")\n",
    "    data[file.split('.')[0]] = df.copy()\n",
    "    print(f\"Содержимое файла {file}:\")\n",
    "    print(df.head(10))\n",
    "    \n",
    "    print(\"\\n\")\n",
    "#print(data)"
   ]
  },
  {
   "cell_type": "code",
   "execution_count": null,
   "metadata": {},
   "outputs": [],
   "source": []
  },
  {
   "cell_type": "markdown",
   "metadata": {},
   "source": [
    "bomojobrandindices.csv содержит следующие признаки(колонки) названия брендов/ международная выручка/ сколько релизов всего/ самый успешный релиз/ выручка по самому успешному релизу\n",
    "\n",
    "boxofficemojotopgenres.tsv:  жанр/ международная выручка/ сколько фильмов/ самый успешный фильм/ выручка по самому успешному фильму\n",
    "\n",
    "boxofficemojotopfranchises.tsv: название франшизы/ международная выручка/ сколько релизов всего/ самый успешный релиз/ выручка по самому успешному релизу\n",
    "\n",
    "boxofficemojobrandindices.tsv: бренд(правообладатель) /международная выручка/ сколько релизов всего/ самый успешный релиз/ выручка по самому успешному релизу\n",
    "\n",
    "boxofficemojointernationaltop1000.tsv: топовый фильм/ международная(общая)выручка / локальная выручка/ %локальной выручки от общей/ зарубежная выручка / % зарубежной выручки от общей \n"
   ]
  },
  {
   "cell_type": "markdown",
   "metadata": {},
   "source": [
    "Цель: определить наиболее успешную франшизу по выручке на один фильм и сделать вывод какой тип франшизы наиболее привлекателен\n",
    "потенциально (комиксы, мультфильмы и т.п.)."
   ]
  },
  {
   "cell_type": "code",
   "execution_count": null,
   "metadata": {},
   "outputs": [],
   "source": [
    "for file_name, df in data.items():\n",
    "    print(f\"Для файла {file_name}:\")\n",
    "    # проверка типов данных и приведение их к нужному типу\n",
    "    print(\"Типы данных до обработки:\")\n",
    "    print(df.dtypes)\n",
    "    \n",
    "    # проверка наличия пропущенных значений\n",
    "    print(\"\\nПропущенные значения:\")\n",
    "    print(df.isnull().sum())\n",
    "\n",
    "    # проверка данных на наличие дубликатов\n",
    "    print(\"\\nдубликаты:\")\n",
    "    print(df.duplicated().sum())\n",
    "\n",
    "    print(\"\\n\")"
   ]
  },
  {
   "cell_type": "markdown",
   "metadata": {},
   "source": [
    "В анализируемых данных нет пропусков и дубликатов."
   ]
  },
  {
   "cell_type": "code",
   "execution_count": null,
   "metadata": {},
   "outputs": [],
   "source": [
    "for file_name, df in data.items():\n",
    "    # рассчет основных статистических показателей\n",
    "    print(f\"Основные статистические показатели для файла {file_name}:\")\n",
    "    print(df.describe())\n",
    "    print(\"\\n\")"
   ]
  },
  {
   "cell_type": "markdown",
   "metadata": {},
   "source": []
  },
  {
   "cell_type": "code",
   "execution_count": null,
   "metadata": {},
   "outputs": [],
   "source": [
    "for file_name, df in data.items():\n",
    "    print(f\"Для файла {file_name}:\")\n",
    "\n",
    "    # гистограммы числовых переменных\n",
    "    numeric_cols = df.select_dtypes(include=['int64', 'float64']).columns\n",
    "    df[numeric_cols].hist(figsize=(10, 6), bins=20)\n",
    "    plt.suptitle(\"Гистограммы числовых переменных\")\n",
    "    plt.show()\n",
    "\n",
    "    # диаграммы рассеяния для пар числовых переменных\n",
    "    sns.pairplot(df[numeric_cols])\n",
    "    plt.title(\"Диаграммы рассеяния для пар числовых переменных\")\n",
    "    plt.show()\n",
    "\n",
    "    # столбчатые диаграммы для категориальных переменных\n",
    "    categorical_cols = df.select_dtypes(include=['object']).columns\n",
    "    for col in categorical_cols:\n",
    "        sns.countplot(data=df, x=col)\n",
    "        plt.title(f\"Столбчатая диаграмма для переменной '{col}'\")\n",
    "        plt.xticks(rotation=45)\n",
    "        plt.show()\n",
    "\n",
    "    print(\"\\n\")"
   ]
  },
  {
   "cell_type": "markdown",
   "metadata": {},
   "source": [
    "по диаграммам сложно что-то проанализировать, столбчатые диаграммы для категориальных не дают какой либо стоящей информации, для числовых переменных более наглядны.  \n",
    "boxofficemojointernationaltop1000.tsv (с колонками - Rank: Порядковый номер фильма в рейтинге; Title: Название фильма; Worldwide Lifetime Gross: Общий мировой сбор фильма за всё время проката в долларах США; Domestic Lifetime Gross: Сборы фильма на внутреннем (внутри страны) рынке проката в долларах США; Domestic %: Процент сборов фильма на внутреннем рынке проката от общих сборов; Foreign Lifetime Gross: Сборы фильма на международном рынке проката в долларах США; Foreign %: Процент сборов фильма на международном рынке проката от общих сборов; Year: Год выхода фильма. ) кажется наиболее наглядно отражается на гистограммах рассеяния и подходит для построения карты корреляции.    "
   ]
  },
  {
   "cell_type": "code",
   "execution_count": null,
   "metadata": {},
   "outputs": [],
   "source": [
    "df = data['boxofficemojointernationaltop1000'].copy()\n",
    "\n",
    "# используем только числовые признаки для построения карты корреляции\n",
    "numeric_cols = df.select_dtypes(include=['int64', 'float64'])\n",
    "\n",
    "# строим матрицу корреляции\n",
    "corr_matrix = numeric_cols.corr()\n",
    "\n",
    "# создаем тепловую карту корреляции\n",
    "plt.figure(figsize=(10, 8))\n",
    "sns.heatmap(corr_matrix, annot=True, cmap='coolwarm', fmt=\".2f\", linewidths=.5)\n",
    "plt.title(\"Карта корреляции числовых признаков\")\n",
    "plt.show()"
   ]
  },
  {
   "cell_type": "markdown",
   "metadata": {},
   "source": [
    "между Worldwide Lifetime Gross и Domestic Lifetime Gross имеют достаточно высокий коэфициент корреляции, что ожидаемо, переменные зависимы и  общий мировой сбор фильма и сборы фильма внутри страны могут быть связаны. Так же эти переменные коррелируют с рангом фильма в рейтинге, с возрастанием ранга популярность фильма парает соответственно будет отрицательная корреляция с кассовыми сборами."
   ]
  },
  {
   "cell_type": "markdown",
   "metadata": {},
   "source": [
    "#### Определяем наиболее успешную франшизу по выручке на один фильм"
   ]
  },
  {
   "cell_type": "code",
   "execution_count": null,
   "metadata": {},
   "outputs": [],
   "source": [
    "# копируем датафрейм\n",
    "df = data['boxofficemojotopfranchises'].copy()\n",
    "\n",
    "# создаем новый столбец с отношением Total к Releases\n",
    "df['Total_Per_Release'] = df['Total'] / df['Releases']\n",
    "\n",
    "# находим индекс строки с максимальным значением в столбце 'Total_Per_Release'\n",
    "max_total_per_release_index = df['Total_Per_Release'].idxmax()\n",
    "\n",
    "# получаем значение в столбце \"Franchise\" для строки с максимальным значением в столбце 'Total_Per_Release'\n",
    "franchise_with_max_total_per_release = df.loc[max_total_per_release_index, 'Franchise']\n",
    "\n",
    "print(\"Франшиза с наибольшим значением Total/Releases:\",\n",
    "      franchise_with_max_total_per_release)"
   ]
  },
  {
   "cell_type": "markdown",
   "metadata": {},
   "source": [
    "#### Определяем какой тип жанр потенциально наиболее привлекателен"
   ]
  },
  {
   "cell_type": "code",
   "execution_count": null,
   "metadata": {},
   "outputs": [],
   "source": [
    "# копируем датафрейм\n",
    "df = data['boxofficemojotopgenres'].copy()\n",
    "\n",
    "# вычисляем средний доход на фильм для каждого жанра\n",
    "#genre_stats['Average_Total'] = genre_stats['Total'] / genre_stats['Titles']\n",
    "df['Average_Total'] = df['Total'] / df['Titles']\n",
    "\n",
    "# сортируем значения среднего дохода на фильм по убыванию\n",
    "genre_stats_sorted = df.sort_values(\n",
    "    by='Average_Total', ascending=False)\n",
    "\n",
    "print(genre_stats_sorted[['Genre', 'Average_Total']].head(10))"
   ]
  },
  {
   "cell_type": "markdown",
   "metadata": {},
   "source": [
    "По распределению доходности жанров можно предположить, что для успешности фильма сюжет должен иметь основную линию связанную с космосом, главный герой из разряда \"супергероев\" с описанием его биографии и лучше добавить мифических существ/монстров/динозавров/драконов."
   ]
  }
 ],
 "metadata": {
  "kernelspec": {
   "display_name": "base",
   "language": "python",
   "name": "python3"
  },
  "language_info": {
   "codemirror_mode": {
    "name": "ipython",
    "version": 3
   },
   "file_extension": ".py",
   "mimetype": "text/x-python",
   "name": "python",
   "nbconvert_exporter": "python",
   "pygments_lexer": "ipython3",
   "version": "3.11.4"
  }
 },
 "nbformat": 4,
 "nbformat_minor": 2
}
